{
 "cells": [
  {
   "cell_type": "markdown",
   "id": "24d06014",
   "metadata": {},
   "source": [
    "# 项目目标：\n",
    "* 挖掘用户流量、用户行为、用户画像以及商品特征。\n",
    "* 建立指标体系或者业务模型，并实现数据可视化。\n",
    "* 揪出业务问题并给出一定的优化建议。"
   ]
  },
  {
   "cell_type": "code",
   "execution_count": 1,
   "id": "97bc5265",
   "metadata": {},
   "outputs": [],
   "source": [
    "# 引入模块\n",
    "import pandas as pd\n",
    "import numpy as np\n",
    "import time as time\n",
    "from sqlalchemy import create_engine\n",
    "import pymysql"
   ]
  },
  {
   "cell_type": "code",
   "execution_count": null,
   "id": "8d9aebb3",
   "metadata": {},
   "outputs": [
    {
     "name": "stdout",
     "output_type": "stream",
     "text": [
      "数据处理完成，耗时3.61秒。\n",
      "已保存3,000,000行数据至新文件。\n"
     ]
    }
   ],
   "source": [
    "# 设置数据处理开始时间\n",
    "start_time = time.time()\n",
    "\n",
    "# 设置输入和输出文件路径\n",
    "input_file = f'.git/UserBehavior/UserBehavior.csv'\n",
    "output_file = f'.git/UserBehavior/UserBehavior.csv'\n",
    "\n",
    "# 设置最大读取行数\n",
    "n_rows = 3000000\n",
    "\n",
    "# 读取数据并保存到新文件\n",
    "df = pd.read_csv(input_file, nrows = n_rows)\n",
    "df.to_csv(output_file, index = False)\n",
    "\n",
    "# 记录读取数据时间\n",
    "elapesd_time = time.time() - start_time\n",
    "\n",
    "print(f'数据处理完成，耗时{elapesd_time:.2f}秒。')\n",
    "print(f'已保存{len(df):,}行数据至新文件。')"
   ]
  },
  {
   "cell_type": "code",
   "execution_count": 7,
   "id": "af4586a1",
   "metadata": {},
   "outputs": [
    {
     "name": "stdout",
     "output_type": "stream",
     "text": [
      "数据基本信息：\n",
      "<class 'pandas.core.frame.DataFrame'>\n",
      "RangeIndex: 3000001 entries, 0 to 3000000\n",
      "Data columns (total 9 columns):\n",
      " #   Column           Dtype         \n",
      "---  ------           -----         \n",
      " 0   user_id          int64         \n",
      " 1   product_id       int64         \n",
      " 2   category_id      int64         \n",
      " 3   action_type      object        \n",
      " 4   event_timestamp  int64         \n",
      " 5   times            datetime64[ns]\n",
      " 6   dates            object        \n",
      " 7   hours            int32         \n",
      " 8   weekdays         object        \n",
      "dtypes: datetime64[ns](1), int32(1), int64(4), object(3)\n",
      "memory usage: 194.5+ MB\n",
      "None\n"
     ]
    }
   ],
   "source": [
    "# 定义数据集新列名\n",
    "new_column_names = [\n",
    "    'user_id',\n",
    "    'product_id',\n",
    "    'category_id',\n",
    "    'action_type',\n",
    "    'event_timestamp'\n",
    "]\n",
    "\n",
    "# 读取文件并指定列名\n",
    "df = pd.read_csv(output_file, names = new_column_names)\n",
    "\n",
    "# 将时间戳转换为日期时间格式\n",
    "df['times'] = pd.to_datetime(df['event_timestamp'], unit = 's') + pd.Timedelta(hours = 8)\n",
    "\n",
    "# 提取日期和时间信息\n",
    "df['dates'] = df['times'].dt.date\n",
    "df['hours'] = df['times'].dt.hour\n",
    "df['weekdays'] = df['times'].dt.day_name()\n",
    "\n",
    "print('数据基本信息：')\n",
    "print(df.info())"
   ]
  },
  {
   "cell_type": "code",
   "execution_count": null,
   "id": "fd47a8ba",
   "metadata": {},
   "outputs": [
    {
     "name": "stdout",
     "output_type": "stream",
     "text": [
      "数据包含3000001行和9列。\n",
      "\n",
      "数据前5行：\n",
      "\tuser_id\tproduct_id\tcategory_id\taction_type\tevent_timestamp\ttimes\tdates\thours\tweekdays\n",
      "0\t1\t2268318\t2520377\tpv\t1511544070\t2017-11-25 01:21:10\t2017-11-25\t1\tSaturday\n",
      "1\t1\t2333346\t2520771\tpv\t1511561733\t2017-11-25 06:15:33\t2017-11-25\t6\tSaturday\n",
      "2\t1\t2576651\t149192\tpv\t1511572885\t2017-11-25 09:21:25\t2017-11-25\t9\tSaturday\n",
      "3\t1\t3830808\t4181361\tpv\t1511593493\t2017-11-25 15:04:53\t2017-11-25\t15\tSaturday\n",
      "4\t1\t4365585\t2520377\tpv\t1511596146\t2017-11-25 15:49:06\t2017-11-25\t15\tSaturday\n",
      "\n",
      "/n过滤后数据集的基本信息：\n",
      "<class 'pandas.core.frame.DataFrame'>\n",
      "Index: 2998534 entries, 0 to 3000000\n",
      "Data columns (total 9 columns):\n",
      " #   Column           Dtype         \n",
      "---  ------           -----         \n",
      " 0   user_id          int64         \n",
      " 1   product_id       int64         \n",
      " 2   category_id      int64         \n",
      " 3   action_type      object        \n",
      " 4   event_timestamp  int64         \n",
      " 5   times            datetime64[ns]\n",
      " 6   dates            object        \n",
      " 7   hours            int32         \n",
      " 8   weekdays         object        \n",
      "dtypes: datetime64[ns](1), int32(1), int64(4), object(3)\n",
      "memory usage: 217.3+ MB\n",
      "None\n",
      "/n缺失值统计：\n",
      "user_id            0\n",
      "product_id         0\n",
      "category_id        0\n",
      "action_type        0\n",
      "event_timestamp    0\n",
      "times              0\n",
      "dates              0\n",
      "hours              0\n",
      "weekdays           0\n",
      "dtype: int64\n",
      "/n重复值统计：\n",
      "处理前重复值数量：1\n",
      "处理后重复值数量：0\n"
     ]
    }
   ],
   "source": [
    "# 查看数据集信息、\n",
    "rows, columns = df.shape\n",
    "\n",
    "if rows > 0:\n",
    "    \n",
    "    # 查看数据集行数和列名\n",
    "    print(f'数据包含{rows}行和{columns}列。')\n",
    "    \n",
    "    # 查看数据集前5行\n",
    "    print('\\n数据前5行：')\n",
    "    print(df.head().to_csv(sep = '\\t', na_rep = 'nan'))\n",
    "\n",
    "# 定义日期范围\n",
    "start_date = ('2017-11-25 00:00:00')\n",
    "end_date = ('2017-12-03 23:59:59')\n",
    "\n",
    "# 过滤日期范围内的数据\n",
    "orginal_rows = len(df)\n",
    "df = df[(df['times'] >= start_date) & (df['times'] <= end_date)]\n",
    "filtered_rows = len(df)\n",
    "filtered_percentage = (filtered_rows / orginal_rows) * 100\n",
    "\n",
    "print('/n过滤后数据集的基本信息：')\n",
    "print(df.info())\n",
    "\n",
    "# 检查缺失值\n",
    "print('/n缺失值统计：')\n",
    "print(df.isnull().sum())\n",
    "\n",
    "# 检查重复值\n",
    "print('/n重复值统计：')\n",
    "duplicate_count = df.duplicated().sum()\n",
    "print(f'处理前重复值数量：{duplicate_count}')\n",
    "df = df.drop_duplicates()\n",
    "print(f'处理后重复值数量：{df.duplicated().sum()}')\n",
    "\n",
    "# 保存处理后的数据集\n",
    "df.to_csv(r'.git/tbub.csv', index = False)"
   ]
  },
  {
   "cell_type": "code",
   "execution_count": 11,
   "id": "c94dd8f3",
   "metadata": {},
   "outputs": [
    {
     "data": {
      "application/vnd.microsoft.datawrangler.viewer.v0+json": {
       "columns": [
        {
         "name": "index",
         "rawType": "int64",
         "type": "integer"
        },
        {
         "name": "user_id",
         "rawType": "int64",
         "type": "integer"
        },
        {
         "name": "product_id",
         "rawType": "int64",
         "type": "integer"
        },
        {
         "name": "category_id",
         "rawType": "int64",
         "type": "integer"
        },
        {
         "name": "action_type",
         "rawType": "object",
         "type": "string"
        },
        {
         "name": "event_timestamp",
         "rawType": "int64",
         "type": "integer"
        },
        {
         "name": "times",
         "rawType": "datetime64[ns]",
         "type": "datetime"
        },
        {
         "name": "dates",
         "rawType": "object",
         "type": "unknown"
        },
        {
         "name": "hours",
         "rawType": "int32",
         "type": "integer"
        },
        {
         "name": "weekdays",
         "rawType": "object",
         "type": "string"
        }
       ],
       "ref": "b81784a6-1696-4171-a358-42febe672827",
       "rows": [
        [
         "0",
         "1",
         "2268318",
         "2520377",
         "pv",
         "1511544070",
         "2017-11-25 01:21:10",
         "2017-11-25",
         "1",
         "Saturday"
        ],
        [
         "1",
         "1",
         "2333346",
         "2520771",
         "pv",
         "1511561733",
         "2017-11-25 06:15:33",
         "2017-11-25",
         "6",
         "Saturday"
        ],
        [
         "2",
         "1",
         "2576651",
         "149192",
         "pv",
         "1511572885",
         "2017-11-25 09:21:25",
         "2017-11-25",
         "9",
         "Saturday"
        ],
        [
         "3",
         "1",
         "3830808",
         "4181361",
         "pv",
         "1511593493",
         "2017-11-25 15:04:53",
         "2017-11-25",
         "15",
         "Saturday"
        ],
        [
         "4",
         "1",
         "4365585",
         "2520377",
         "pv",
         "1511596146",
         "2017-11-25 15:49:06",
         "2017-11-25",
         "15",
         "Saturday"
        ]
       ],
       "shape": {
        "columns": 9,
        "rows": 5
       }
      },
      "text/html": [
       "<div>\n",
       "<style scoped>\n",
       "    .dataframe tbody tr th:only-of-type {\n",
       "        vertical-align: middle;\n",
       "    }\n",
       "\n",
       "    .dataframe tbody tr th {\n",
       "        vertical-align: top;\n",
       "    }\n",
       "\n",
       "    .dataframe thead th {\n",
       "        text-align: right;\n",
       "    }\n",
       "</style>\n",
       "<table border=\"1\" class=\"dataframe\">\n",
       "  <thead>\n",
       "    <tr style=\"text-align: right;\">\n",
       "      <th></th>\n",
       "      <th>user_id</th>\n",
       "      <th>product_id</th>\n",
       "      <th>category_id</th>\n",
       "      <th>action_type</th>\n",
       "      <th>event_timestamp</th>\n",
       "      <th>times</th>\n",
       "      <th>dates</th>\n",
       "      <th>hours</th>\n",
       "      <th>weekdays</th>\n",
       "    </tr>\n",
       "  </thead>\n",
       "  <tbody>\n",
       "    <tr>\n",
       "      <th>0</th>\n",
       "      <td>1</td>\n",
       "      <td>2268318</td>\n",
       "      <td>2520377</td>\n",
       "      <td>pv</td>\n",
       "      <td>1511544070</td>\n",
       "      <td>2017-11-25 01:21:10</td>\n",
       "      <td>2017-11-25</td>\n",
       "      <td>1</td>\n",
       "      <td>Saturday</td>\n",
       "    </tr>\n",
       "    <tr>\n",
       "      <th>1</th>\n",
       "      <td>1</td>\n",
       "      <td>2333346</td>\n",
       "      <td>2520771</td>\n",
       "      <td>pv</td>\n",
       "      <td>1511561733</td>\n",
       "      <td>2017-11-25 06:15:33</td>\n",
       "      <td>2017-11-25</td>\n",
       "      <td>6</td>\n",
       "      <td>Saturday</td>\n",
       "    </tr>\n",
       "    <tr>\n",
       "      <th>2</th>\n",
       "      <td>1</td>\n",
       "      <td>2576651</td>\n",
       "      <td>149192</td>\n",
       "      <td>pv</td>\n",
       "      <td>1511572885</td>\n",
       "      <td>2017-11-25 09:21:25</td>\n",
       "      <td>2017-11-25</td>\n",
       "      <td>9</td>\n",
       "      <td>Saturday</td>\n",
       "    </tr>\n",
       "    <tr>\n",
       "      <th>3</th>\n",
       "      <td>1</td>\n",
       "      <td>3830808</td>\n",
       "      <td>4181361</td>\n",
       "      <td>pv</td>\n",
       "      <td>1511593493</td>\n",
       "      <td>2017-11-25 15:04:53</td>\n",
       "      <td>2017-11-25</td>\n",
       "      <td>15</td>\n",
       "      <td>Saturday</td>\n",
       "    </tr>\n",
       "    <tr>\n",
       "      <th>4</th>\n",
       "      <td>1</td>\n",
       "      <td>4365585</td>\n",
       "      <td>2520377</td>\n",
       "      <td>pv</td>\n",
       "      <td>1511596146</td>\n",
       "      <td>2017-11-25 15:49:06</td>\n",
       "      <td>2017-11-25</td>\n",
       "      <td>15</td>\n",
       "      <td>Saturday</td>\n",
       "    </tr>\n",
       "  </tbody>\n",
       "</table>\n",
       "</div>"
      ],
      "text/plain": [
       "   user_id  product_id  category_id action_type  event_timestamp  \\\n",
       "0        1     2268318      2520377          pv       1511544070   \n",
       "1        1     2333346      2520771          pv       1511561733   \n",
       "2        1     2576651       149192          pv       1511572885   \n",
       "3        1     3830808      4181361          pv       1511593493   \n",
       "4        1     4365585      2520377          pv       1511596146   \n",
       "\n",
       "                times       dates  hours  weekdays  \n",
       "0 2017-11-25 01:21:10  2017-11-25      1  Saturday  \n",
       "1 2017-11-25 06:15:33  2017-11-25      6  Saturday  \n",
       "2 2017-11-25 09:21:25  2017-11-25      9  Saturday  \n",
       "3 2017-11-25 15:04:53  2017-11-25     15  Saturday  \n",
       "4 2017-11-25 15:49:06  2017-11-25     15  Saturday  "
      ]
     },
     "execution_count": 11,
     "metadata": {},
     "output_type": "execute_result"
    }
   ],
   "source": [
    "df.head()"
   ]
  }
 ],
 "metadata": {
  "kernelspec": {
   "display_name": "base",
   "language": "python",
   "name": "python3"
  },
  "language_info": {
   "codemirror_mode": {
    "name": "ipython",
    "version": 3
   },
   "file_extension": ".py",
   "mimetype": "text/x-python",
   "name": "python",
   "nbconvert_exporter": "python",
   "pygments_lexer": "ipython3",
   "version": "3.13.5"
  }
 },
 "nbformat": 4,
 "nbformat_minor": 5
}
